import numpy as np
import matplotlib.pyplot as plt
from math import e  # Untuk memanggil bilangan eksponen natural (e)

# Mendefinisikan fungsi
def f(x):
    return e**(2 * x) - 8 * x**2

# Sesi Input Nilai awal yang dikonversi ke pecahan
x0 = float(input("x0 : "))
x1 = float(input("x1 : "))
eps = float(input("epsilon : "))

# Metode Bagi Dua
def bisection(x0, x1, eps):
    step = 1
    condition = True
    print("\n---Metode Bagi Dua---\n")
    while condition:
        x2 = (x0 + x1) / 2
        print(f"Iterasi-{step}: x2 = {x2:.6f} dan f(x2) = {f(x2):.6f}")
        if f(x0) * f(x2) < 0:
            x1 = x2
        else:
            x0 = x2
        step += 1
        condition = abs(f(x2)) > eps

    print(f"\nAkar Persamaan tersebut : {x2:.8f} \n")
    # Menggambar fungsi
    x = np.linspace(0, 2, 100)  # Masukkan nilai tebakan awal
    plt.plot(x, f(x))
    plt.show()
    plt.savefig("fungsi.png")  # Untuk menyimpan gambar fungsi

# Pengecekan nilai awal
if f(x0) * f(x1) > 0:
    print("Nilai yang diprediksi tidak mengurung akar")
    print("Silakan mencoba ulang prediksi nilai baru")
else:
    bisection(x0, x1, eps)
